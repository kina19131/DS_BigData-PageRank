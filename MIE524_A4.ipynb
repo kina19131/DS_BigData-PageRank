{
  "nbformat": 4,
  "nbformat_minor": 0,
  "metadata": {
    "colab": {
      "provenance": []
    },
    "kernelspec": {
      "name": "python3",
      "display_name": "Python 3"
    },
    "language_info": {
      "name": "python"
    }
  },
  "cells": [
    {
      "cell_type": "markdown",
      "source": [
        "# MIE524 - Assignment 4\n",
        "Please complete this notebook for Assignment 4."
      ],
      "metadata": {
        "id": "6WCBIfYrN7ul"
      }
    },
    {
      "cell_type": "markdown",
      "source": [
        "## Q1 - PageRank"
      ],
      "metadata": {
        "id": "aOM_3IDpoW_5"
      }
    },
    {
      "cell_type": "markdown",
      "source": [
        "### Spark Setup"
      ],
      "metadata": {
        "id": "II6ZIjfMozo6"
      }
    },
    {
      "cell_type": "code",
      "source": [
        "!pip install pyspark\n",
        "!pip install -U -q PyDrive\n",
        "\n",
        "!apt install openjdk-8-jdk-headless -qq\n",
        "import os\n",
        "os.environ[\"JAVA_HOME\"] = \"/usr/lib/jvm/java-8-openjdk-amd64\""
      ],
      "metadata": {
        "colab": {
          "base_uri": "https://localhost:8080/"
        },
        "id": "KmVlEbIhodss",
        "outputId": "6097a382-0ac1-4039-d9db-5a70192a77d6"
      },
      "execution_count": 70,
      "outputs": [
        {
          "output_type": "stream",
          "name": "stdout",
          "text": [
            "Requirement already satisfied: pyspark in /usr/local/lib/python3.10/dist-packages (3.5.0)\n",
            "Requirement already satisfied: py4j==0.10.9.7 in /usr/local/lib/python3.10/dist-packages (from pyspark) (0.10.9.7)\n",
            "openjdk-8-jdk-headless is already the newest version (8u382-ga-1~22.04.1).\n",
            "0 upgraded, 0 newly installed, 0 to remove and 9 not upgraded.\n"
          ]
        }
      ]
    },
    {
      "cell_type": "markdown",
      "source": [
        "Load Packages"
      ],
      "metadata": {
        "id": "_BkGbgTGpoLq"
      }
    },
    {
      "cell_type": "code",
      "source": [
        "import pandas as pd\n",
        "import numpy as np\n",
        "import matplotlib.pyplot as plt\n",
        "import re\n",
        "\n",
        "from tqdm import tqdm\n",
        "\n",
        "%matplotlib inline\n",
        "\n",
        "import pyspark\n",
        "from pyspark.sql import *\n",
        "from pyspark.sql.types import *\n",
        "from pyspark.sql.functions import *\n",
        "from pyspark import SparkContext, SparkConf"
      ],
      "metadata": {
        "id": "hKxOOqxio4jQ"
      },
      "execution_count": 71,
      "outputs": []
    },
    {
      "cell_type": "markdown",
      "source": [
        "Initialize Spark Context"
      ],
      "metadata": {
        "id": "LLq0t9SSp2PH"
      }
    },
    {
      "cell_type": "code",
      "source": [
        "# create the session\n",
        "conf = SparkConf()\n",
        "\n",
        "# create the context\n",
        "sc = pyspark.SparkContext(conf=conf)\n",
        "spark = SparkSession.builder.getOrCreate()"
      ],
      "metadata": {
        "id": "4mgyIy2GpyW7"
      },
      "execution_count": 72,
      "outputs": []
    },
    {
      "cell_type": "markdown",
      "source": [
        "### Load Data"
      ],
      "metadata": {
        "id": "uBSQghbwqJOB"
      }
    },
    {
      "cell_type": "code",
      "source": [
        "# loads the input file as an RDD, with each element being a string\n",
        "# of the form \"source destination\" where source and destination\n",
        "# are node id's representing the directed edge from node source\n",
        "# to node destination. Note that the elements of this RDD are string\n",
        "# types, hence you will need to map them to integers later.\n",
        "\n",
        "lines = sc.textFile(\"/content/q1-graph-small.txt\").map(lambda line: tuple(map(int, line.strip().split('\\t'))))"
      ],
      "metadata": {
        "id": "7RWSlSFFqBv7"
      },
      "execution_count": 73,
      "outputs": []
    },
    {
      "cell_type": "code",
      "source": [
        "lines = sc.textFile(\"/content/q1-graph-full.txt\").map(lambda line: tuple(map(int, line.strip().split('\\t'))))"
      ],
      "metadata": {
        "id": "nv1-Gi15JQeW"
      },
      "execution_count": 74,
      "outputs": []
    },
    {
      "cell_type": "code",
      "source": [
        "# Check the first 10 elements\n",
        "lines.take(10)"
      ],
      "metadata": {
        "colab": {
          "base_uri": "https://localhost:8080/"
        },
        "id": "l2Ha6-cMVFLm",
        "outputId": "c60726e1-ed5b-44b8-f7f3-e18ddf560a75"
      },
      "execution_count": 75,
      "outputs": [
        {
          "output_type": "execute_result",
          "data": {
            "text/plain": [
              "[(1, 2),\n",
              " (2, 3),\n",
              " (3, 4),\n",
              " (4, 5),\n",
              " (5, 6),\n",
              " (6, 7),\n",
              " (7, 8),\n",
              " (8, 9),\n",
              " (9, 10),\n",
              " (10, 11)]"
            ]
          },
          "metadata": {},
          "execution_count": 75
        }
      ]
    },
    {
      "cell_type": "markdown",
      "source": [
        "### a) PageRank Implementation"
      ],
      "metadata": {
        "id": "ziXwaIGNqoIz"
      }
    },
    {
      "cell_type": "code",
      "source": [
        "# # No spark - tried implementing without spark\n",
        "# class no_my_PageRank:\n",
        "#     def __init__(self, lines, num_iterations, beta):\n",
        "#         \"\"\"\n",
        "#         Initializes the my_PageRank object\n",
        "#         \"\"\"\n",
        "#         self.lines = lines\n",
        "#         self.num_iterations = num_iterations\n",
        "#         self.beta = beta\n",
        "#         self.M = self.create_M()\n",
        "\n",
        "#     def create_M(self):\n",
        "#         \"\"\"\n",
        "#         Generate the source destination matrix M\n",
        "#         \"\"\"\n",
        "\n",
        "#         # TODO: YOUR CODE HERE\n",
        "#         n = self.lines.count()\n",
        "#         M = [[0] * n for _ in range(n)]\n",
        "\n",
        "#         out_degrees = [0] * n\n",
        "\n",
        "#         for line in self.lines.collect():\n",
        "#             i, j = line\n",
        "#             out_degrees[i] += 1\n",
        "\n",
        "#         print(\"out_degrees:\", out_degrees)\n",
        "\n",
        "#         for line in self.lines.collect():\n",
        "#             i, j = line\n",
        "#             if out_degrees[i] != 0:\n",
        "#                 M[j][i] += 1 / out_degrees[i]\n",
        "\n",
        "#         return M\n",
        "\n",
        "#     def compute_PageRank(self):\n",
        "#         \"\"\"\n",
        "#         Run the entire PageRank algorithm\n",
        "#         \"\"\"\n",
        "#         # 1. Initialize r^0\n",
        "#         # 2. Iteratively compute r^i\n",
        "\n",
        "#         # TODO: YOUR CODE HERE\n",
        "\n",
        "#         n = len(self.M)\n",
        "#         #initial r^0 as a vector of lenght n with equal probabilities\n",
        "#         r = [1 / n] * n\n",
        "\n",
        "#         # iteratively compute r^i\n",
        "#         for _ in range(self.num_iterations):\n",
        "#           r_next = [(1 - self.beta) / n ] * n\n",
        "#           for j in range(n):\n",
        "#             for i in range(n):\n",
        "#               r_next[i] += self.beta * self.M[i][j] * r[j]\n",
        "\n",
        "#           r = r_next\n",
        "#         return r"
      ],
      "metadata": {
        "id": "9C1-k6Y2R7-c"
      },
      "execution_count": 76,
      "outputs": []
    },
    {
      "cell_type": "code",
      "source": [
        "# # No spark run\n",
        "# lines = sc.parallelize(lines.collect())\n",
        "# pg = no_my_PageRank(lines = lines, num_iterations = 40, beta = 0.8)\n",
        "# print(pg.M[0:5])"
      ],
      "metadata": {
        "id": "8N1zV5wqezho"
      },
      "execution_count": 77,
      "outputs": []
    },
    {
      "cell_type": "markdown",
      "source": [
        "### b) Compute the top 5 node ids with the highest PageRank scores."
      ],
      "metadata": {
        "id": "7jVyz0sIetE_"
      }
    },
    {
      "cell_type": "markdown",
      "source": [
        "### c) Compute the top 5 node ids with the lowest PageRank scores."
      ],
      "metadata": {
        "id": "AvC2juA1fRx3"
      }
    },
    {
      "cell_type": "code",
      "source": [
        "class my_PageRank:\n",
        "    def __init__(self, lines, num_iterations, beta):\n",
        "        \"\"\"\n",
        "        Initializes the my_PageRank object\n",
        "        \"\"\"\n",
        "        self.lines = lines\n",
        "        self.num_iterations = num_iterations\n",
        "        self.beta = beta\n",
        "        self.M = self.create_M()\n",
        "\n",
        "    def create_M(self):\n",
        "        # If there are multiple edges in the same direction between two nodes,\n",
        "        # treat them as a single edge.\n",
        "        edges = self.lines.flatMap(lambda x: [(x[0], x[1])]).distinct()\n",
        "\n",
        "        # print(\"edges:\", edges.collect())\n",
        "\n",
        "        # Count out-degrees\n",
        "        out_degrees = edges.map(lambda x: (x[0], 1)).reduceByKey(lambda a, b: a + b).collectAsMap()\n",
        "\n",
        "        # print(\"out_degrees:\", out_degrees)\n",
        "\n",
        "        # Construct the transition matrix M\n",
        "        matrix = edges.map(lambda x: (x[0], x[1])).groupByKey()\n",
        "        # print(\"matrix1:\", matrix.collect())\n",
        "\n",
        "        max_length = edges.map(lambda x: x[1]).max()\n",
        "        matrix_updated = matrix.map(lambda x: (x[0], [1 / out_degrees.get(x[0], 0) if val in x[1] else 0 for val in range(1, max_length+1)])).sortByKey()\n",
        "\n",
        "\n",
        "        # print(\"matrix_updated:\", matrix_updated.collect())\n",
        "\n",
        "        matrix2 = matrix_updated.map(lambda x: x[1]).collect()\n",
        "\n",
        "        # print(\"matrix2:\", matrix2)\n",
        "\n",
        "        return matrix2\n",
        "\n",
        "\n",
        "    def compute_PageRank(self):\n",
        "        \"\"\"\n",
        "        Run the entire PageRank algorithm\n",
        "        \"\"\"\n",
        "        # 1. Initialize r^0\n",
        "        # 2. Iteratively compute r^i\n",
        "\n",
        "        # TODO: YOUR CODE HERE\n",
        "\n",
        "        n = len(self.M)\n",
        "        #initial r^0 as a vector of lenght n with equal probabilities\n",
        "        r = [1 / n] * n\n",
        "\n",
        "        # iteratively compute r^i\n",
        "        for _ in range(self.num_iterations):\n",
        "          r_next = [(1 - self.beta) / n ] * n\n",
        "          for j in range(n):\n",
        "            for i in range(n):\n",
        "              r_next[i] += self.beta * self.M[j][i] * r[j]\n",
        "\n",
        "          r = r_next\n",
        "        return r"
      ],
      "metadata": {
        "id": "hWsoymA5GFD2"
      },
      "execution_count": 78,
      "outputs": []
    },
    {
      "cell_type": "code",
      "source": [
        "lines = sc.parallelize(lines.collect())\n",
        "pg = my_PageRank(lines = lines, num_iterations = 40, beta = 0.8)"
      ],
      "metadata": {
        "id": "TKwTseWJqizV"
      },
      "execution_count": 79,
      "outputs": []
    },
    {
      "cell_type": "code",
      "source": [
        "# # Spark Implementation - Running on Toy Example for debugging\n",
        "\n",
        "# edges = [\n",
        "#     (1, 2),\n",
        "#     (1, 3),\n",
        "#     (2, 3),\n",
        "#     (3, 1),\n",
        "#     (3, 2),\n",
        "#     (3, 3),\n",
        "#     (4, 5),\n",
        "#     (5, 1)  # Node 5 has a connection to node 1\n",
        "# ]\n",
        "\n",
        "# toy_lines = sc.parallelize(edges)\n",
        "# pg = my_PageRank(lines = toy_lines, num_iterations = 10, beta = 0.8)\n"
      ],
      "metadata": {
        "id": "vHPU6M3_s16j"
      },
      "execution_count": 80,
      "outputs": []
    },
    {
      "cell_type": "code",
      "source": [
        "# TODO: YOUR CODE HERE\n",
        "\n",
        "pg_scores = pg.compute_PageRank()\n",
        "\n",
        "sorted_scores = sorted(enumerate(pg_scores), key=lambda x: x[1], reverse=True)\n",
        "\n",
        "top_5_nodes = [(node_id, pg_score) for node_id, pg_score in sorted_scores[:5]]\n",
        "\n",
        "print(\"Top 5 nodes with the highest PageRank scores:\")\n",
        "for node_id, pg_score in top_5_nodes:\n",
        "    print(\"Node ID:\", node_id+1, \"PageRank Score:\", pg_score)"
      ],
      "metadata": {
        "id": "Zp9Qorr-fJWS",
        "colab": {
          "base_uri": "https://localhost:8080/"
        },
        "outputId": "0a81f46e-19ca-4423-97e4-b8ea5ade8117"
      },
      "execution_count": 81,
      "outputs": [
        {
          "output_type": "stream",
          "name": "stdout",
          "text": [
            "Top 5 nodes with the highest PageRank scores:\n",
            "Node ID: 263 PageRank Score: 0.0020202911815182193\n",
            "Node ID: 537 PageRank Score: 0.0019433415714531503\n",
            "Node ID: 965 PageRank Score: 0.001925447807166263\n",
            "Node ID: 243 PageRank Score: 0.0018526340162417312\n",
            "Node ID: 285 PageRank Score: 0.0018273721700645148\n"
          ]
        }
      ]
    },
    {
      "cell_type": "code",
      "source": [
        "pg_scores = pg.compute_PageRank()\n",
        "\n",
        "# Sorting in ascending order to get lowest PageRank scores first\n",
        "sorted_scores = sorted(enumerate(pg_scores), key=lambda x: x[1])\n",
        "\n",
        "# Selecting the top 5 nodes with the lowest PageRank scores\n",
        "bottom_5_nodes = [(node_id, pg_score) for node_id, pg_score in sorted_scores[:5]]\n",
        "\n",
        "print(\"Top 5 nodes with the lowest PageRank scores:\")\n",
        "for node_id, pg_score in bottom_5_nodes:\n",
        "    print(\"Node ID:\", node_id+1, \"PageRank Score:\", pg_score)\n"
      ],
      "metadata": {
        "id": "n_B2Spp_fV1y",
        "colab": {
          "base_uri": "https://localhost:8080/"
        },
        "outputId": "cf1ad151-4253-4995-924e-05d88116ba6c"
      },
      "execution_count": 82,
      "outputs": [
        {
          "output_type": "stream",
          "name": "stdout",
          "text": [
            "Top 5 nodes with the lowest PageRank scores:\n",
            "Node ID: 558 PageRank Score: 0.0003286018525215297\n",
            "Node ID: 93 PageRank Score: 0.00035135689375165774\n",
            "Node ID: 62 PageRank Score: 0.0003531481051059628\n",
            "Node ID: 424 PageRank Score: 0.00035481538649301454\n",
            "Node ID: 408 PageRank Score: 0.00038779848719291705\n"
          ]
        }
      ]
    },
    {
      "cell_type": "code",
      "source": [
        "# stop the spark instance\n",
        "sc.stop()"
      ],
      "metadata": {
        "id": "jclkG8RlffqS"
      },
      "execution_count": 83,
      "outputs": []
    },
    {
      "cell_type": "markdown",
      "source": [
        "## Q2 - K-Means"
      ],
      "metadata": {
        "id": "_eHIBLEffW4K"
      }
    },
    {
      "cell_type": "code",
      "source": [
        "# create new spark instance\n",
        "\n",
        "# create the session\n",
        "conf = SparkConf()\n",
        "\n",
        "# create the context\n",
        "sc = pyspark.SparkContext(conf=conf)\n",
        "spark = SparkSession.builder.getOrCreate()"
      ],
      "metadata": {
        "id": "0qa39V3lBwhQ"
      },
      "execution_count": 84,
      "outputs": []
    },
    {
      "cell_type": "markdown",
      "source": [
        "### Load Data"
      ],
      "metadata": {
        "id": "gZdsOfB3BwhR"
      }
    },
    {
      "cell_type": "code",
      "source": [
        "# loads the input file as an RDD, with each element being a string\n",
        "documents = sc.textFile(\"q2-data.txt\")\n",
        "c1 = sc.textFile(\"q2-c1.txt\")\n",
        "c2 = sc.textFile(\"q2-c2.txt\")"
      ],
      "metadata": {
        "id": "gkr_E4qWBwhR"
      },
      "execution_count": 85,
      "outputs": []
    },
    {
      "cell_type": "code",
      "source": [
        "c1_processed = c1.map(lambda point: list(map(float, point.split())))\n",
        "c2_processed = c2.map(lambda point: list(map(float, point.split())))\n",
        "documents_processed = documents.map(lambda point: list(map(float, point.split())))"
      ],
      "metadata": {
        "id": "xaZgrmI3GCJ_"
      },
      "execution_count": 86,
      "outputs": []
    },
    {
      "cell_type": "markdown",
      "source": [
        "### Implement K-Means"
      ],
      "metadata": {
        "id": "Rj87IjIPBwhR"
      }
    },
    {
      "cell_type": "code",
      "source": [
        "# function to compute Euclidean distance between point A and B\n",
        "def euclidean_distance(A, B):\n",
        "    return np.sqrt(np.sum(np.square(np.subtract(A, B))))\n",
        "\n",
        "# function to compute Manhattan distance between point A and B\n",
        "def manhattan_distance(A, B):\n",
        "    return np.sum(np.abs(np.subtract(A, B)))"
      ],
      "metadata": {
        "id": "cNlShcIgBwhS"
      },
      "execution_count": 87,
      "outputs": []
    },
    {
      "cell_type": "code",
      "source": [
        "## Hint: Note that you do not need to write a separate Spark job to compute φ(i).\n",
        "## You should be able to calculate costs while partitioning points into clusters.\n",
        "\n",
        "# Taking the hint and computing within my Kmeans_class ; approved by Ch\n",
        "# function to compute cost function phi\n",
        "def compute_phi(dataset, centroids):\n",
        "    # TODO: YOUR CODE HERE\n",
        "    return None\n",
        "\n",
        "# function to compute cost function psi\n",
        "def compute_psi(dataset, centroids):\n",
        "    # TODO: YOUR CODE HERE\n",
        "    return None"
      ],
      "metadata": {
        "id": "PZ-e3EACBwhS"
      },
      "execution_count": 108,
      "outputs": []
    },
    {
      "cell_type": "code",
      "source": [
        "def closest_centroid(point, centroids, distance_measure):\n",
        "  min_dist = float('inf')\n",
        "  closest_centroid_idx = None\n",
        "  for i, centroid in enumerate(centroids):\n",
        "      dist = distance_measure(point, centroid)\n",
        "      if dist < min_dist:\n",
        "          min_dist = dist\n",
        "          closest_centroid_idx = i\n",
        "  return min_dist, closest_centroid_idx"
      ],
      "metadata": {
        "id": "vegXMi0FaWnJ"
      },
      "execution_count": 89,
      "outputs": []
    },
    {
      "cell_type": "code",
      "source": [
        "from pyspark import SparkContext\n",
        "import numpy as np\n",
        "\n",
        "class my_kmeans:\n",
        "    def __init__(self, data, centroids, k, max_iter, distance_measure):\n",
        "        self.data = data\n",
        "        self.centroids = centroids\n",
        "        self.k = k\n",
        "        self.max_iter = max_iter\n",
        "        self.distance_measure = distance_measure\n",
        "\n",
        "\n",
        "    def run_kmeans(self):\n",
        "        centroids_list = self.centroids.collect()\n",
        "        distance_measure = self.distance_measure\n",
        "        cost = []\n",
        "\n",
        "        ##\n",
        "        # Calculate initial cost\n",
        "        initial_assigned_data = self.data.map(lambda x: closest_centroid(x, centroids_list, distance_measure))\n",
        "        initial_min_dists = initial_assigned_data.map(lambda x: x[0])\n",
        "        initial_cost = np.sum(np.square(initial_min_dists.collect()))\n",
        "        cost.append(initial_cost)\n",
        "        ##\n",
        "\n",
        "        for _ in range(self.max_iter):\n",
        "            assigned_data = self.data.map(lambda x: closest_centroid(x, centroids_list, distance_measure))\n",
        "\n",
        "            min_dists = assigned_data.map(lambda x: x[0])\n",
        "            assigned_centroid_idx = assigned_data.map(lambda x: x[1])\n",
        "\n",
        "            grouped_data = self.data.zip(assigned_centroid_idx).map(lambda x: (x[1], [x[0]])).reduceByKey(lambda a, b: a + b)\n",
        "\n",
        "            new_centroids = grouped_data.mapValues(lambda points: np.mean(points, axis=0))\n",
        "\n",
        "            centroids_list = new_centroids.values().collect()  # Collect only when necessary\n",
        "\n",
        "            cost.append(np.sum(np.square(min_dists.collect())))\n",
        "\n",
        "        assigned_centroid_idx_values = assigned_centroid_idx.collect()\n",
        "\n",
        "        return centroids_list, assigned_centroid_idx_values, cost\n"
      ],
      "metadata": {
        "id": "YgGtp4EC1yP2"
      },
      "execution_count": 90,
      "outputs": []
    },
    {
      "cell_type": "markdown",
      "source": [
        "### a) Using Euclidean distance to compute phi(i) for every iteration i and generate a graph where you plot the cost function φ(i) as a function of the number of iterations"
      ],
      "metadata": {
        "id": "i2SZLVelBwhU"
      }
    },
    {
      "cell_type": "markdown",
      "source": [
        "##### **C1 + Manhattan Distance**"
      ],
      "metadata": {
        "id": "OMJNNQcua9vY"
      }
    },
    {
      "cell_type": "code",
      "source": [
        "# C1 + euclidean_distance\n",
        "km = my_kmeans(data=documents_processed, centroids=c1_processed, k=2, max_iter=20, distance_measure=euclidean_distance)\n",
        "centroids, assignments, costs = km.run_kmeans()\n",
        "\n",
        "## If would like to see the output, uncomment this\n",
        "# print(\"Centroids:\")\n",
        "# for i, centroid in enumerate(centroids):\n",
        "#     print(f\"Centroid {i}: {centroid}\")\n",
        "\n",
        "# print(\"\\nAssigned Centroid Indices:\")\n",
        "# print(assignments)\n",
        "\n",
        "# print(\"\\nMinimum Distances:\")\n",
        "# print(costs)\n",
        "\n",
        "# sc.stop()  # Close SparkContext"
      ],
      "metadata": {
        "id": "7nHGghCtlG3C"
      },
      "execution_count": 91,
      "outputs": []
    },
    {
      "cell_type": "code",
      "source": [
        "import matplotlib.pyplot as plt\n",
        "\n",
        "iterations = list(range(0, len(costs)))\n",
        "min_costs = [c for c in costs]\n",
        "print(min_costs)\n",
        "\n",
        "plt.figure(figsize=(8, 6))\n",
        "plt.plot(iterations, min_costs, marker='o', linestyle='-')\n",
        "plt.xlabel('Iteration')\n",
        "plt.ylabel('Cost function φ(i)')\n",
        "plt.title('C1 Euc: Cost function per Iteration')\n",
        "plt.xticks(iterations)  # Set x-axis ticks to match iterations\n",
        "plt.grid(True)\n",
        "plt.show()"
      ],
      "metadata": {
        "colab": {
          "base_uri": "https://localhost:8080/",
          "height": 602
        },
        "id": "06p4En84G9oa",
        "outputId": "0979c396-44dd-4550-c8d1-2ddb501ee694"
      },
      "execution_count": 92,
      "outputs": [
        {
          "output_type": "stream",
          "name": "stdout",
          "text": [
            "[623660345.306411, 509862908.2975452, 485480681.8720081, 463997011.68501264, 460969266.57299656, 460537847.98276794, 460313099.65354526, 460003523.88940734, 459570539.3177351, 459021103.342291, 458490656.19198096, 457944232.58797425, 457558005.1986768, 457290136.35230196, 457050555.0595628, 456892235.61535484, 456703630.7370337, 456404203.0189748, 456177800.54199314, 455986871.02734584, 455729268.3551454]\n"
          ]
        },
        {
          "output_type": "display_data",
          "data": {
            "text/plain": [
              "<Figure size 800x600 with 1 Axes>"
            ],
            "image/png": "[encoded data removed]"
          },
          "metadata": {}
        }
      ]
    },
    {
      "cell_type": "code",
      "source": [
        "C1_Euc = (min_costs[0]-min_costs[10])/min_costs[0]"
      ],
      "metadata": {
        "id": "2UwbVhSnDUtg"
      },
      "execution_count": 93,
      "outputs": []
    },
    {
      "cell_type": "markdown",
      "source": [
        "##### **C2 + Euclidean Distance**"
      ],
      "metadata": {
        "id": "LaqUeH00a6rU"
      }
    },
    {
      "cell_type": "code",
      "source": [
        "# C2 + euclidean_distance\n",
        "km = my_kmeans(data=documents_processed, centroids=c2_processed, k=2, max_iter=20, distance_measure=euclidean_distance)\n",
        "centroids, assignments, costs = km.run_kmeans()\n",
        "\n",
        "## If would like to see the output, uncomment this\n",
        "# print(\"Centroids:\")\n",
        "# for i, centroid in enumerate(centroids):\n",
        "#     print(f\"Centroid {i}: {centroid}\")\n",
        "\n",
        "# print(\"\\nAssigned Centroid Indices:\")\n",
        "# print(assignments)\n",
        "\n",
        "# print(\"\\nMinimum Distances:\")\n",
        "# print(costs)\n"
      ],
      "metadata": {
        "id": "CByXKCjcEJd9"
      },
      "execution_count": 94,
      "outputs": []
    },
    {
      "cell_type": "code",
      "source": [
        "import matplotlib.pyplot as plt\n",
        "\n",
        "iterations = list(range(0, len(costs)))\n",
        "min_costs = [c for c in costs]\n",
        "print(min_costs)\n",
        "\n",
        "\n",
        "plt.figure(figsize=(8, 6))\n",
        "plt.plot(iterations, min_costs, marker='o', linestyle='-')\n",
        "plt.xlabel('Iteration')\n",
        "plt.ylabel('Cost function φ(i)')\n",
        "plt.title('C2 Euc: Cost function per Iteration')\n",
        "plt.xticks(iterations)  # Set x-axis ticks to match iterations\n",
        "plt.grid(True)\n",
        "plt.show()"
      ],
      "metadata": {
        "colab": {
          "base_uri": "https://localhost:8080/",
          "height": 602
        },
        "outputId": "bb9adf8c-bcd6-4900-effe-488add740281",
        "id": "6i7zgi0YEJd-"
      },
      "execution_count": 95,
      "outputs": [
        {
          "output_type": "stream",
          "name": "stdout",
          "text": [
            "[438747790.02791697, 249803933.62600315, 194494814.40631247, 169804841.451543, 156295748.80627602, 149094208.1089661, 142508531.61961526, 132303869.40652972, 117170969.83719075, 108547377.17857005, 102237203.317996, 98278015.74975672, 95630226.12177396, 93793314.05119297, 92377131.96821073, 91541606.25423887, 91045573.83042458, 90752240.101408, 90470170.18122733, 90216416.17563124, 90162390.9104141]\n"
          ]
        },
        {
          "output_type": "display_data",
          "data": {
            "text/plain": [
              "<Figure size 800x600 with 1 Axes>"
            ],
            "image/png": "[encoded data removed]"
          },
          "metadata": {}
        }
      ]
    },
    {
      "cell_type": "code",
      "source": [
        "C2_Euc = (min_costs[0]-min_costs[10])/min_costs[0]"
      ],
      "metadata": {
        "id": "rqzNiBQCEJd-"
      },
      "execution_count": 96,
      "outputs": []
    },
    {
      "cell_type": "markdown",
      "source": [
        "### b) Compute percentage change in cost after 10 iterations of the K-Means algorithm."
      ],
      "metadata": {
        "id": "QbLLAQ8HBwhV"
      }
    },
    {
      "cell_type": "code",
      "source": [
        "# percentage change in cost for c1.\n",
        "print(\"C2 Euclidean Distance Percent Change:\")\n",
        "print(C1_Euc)"
      ],
      "metadata": {
        "colab": {
          "base_uri": "https://localhost:8080/"
        },
        "id": "qpNLxoS2BwhW",
        "outputId": "0caeb137-d336-4e91-b6a0-071e4331e553"
      },
      "execution_count": 97,
      "outputs": [
        {
          "output_type": "stream",
          "name": "stdout",
          "text": [
            "C2 Euclidean Distance Percent Change:\n",
            "0.2648391714456054\n"
          ]
        }
      ]
    },
    {
      "cell_type": "code",
      "source": [
        "# percentage change in cost for c2.\n",
        "print(\"C2 Euclidean Distance Percent Change:\")\n",
        "print(C2_Euc)"
      ],
      "metadata": {
        "colab": {
          "base_uri": "https://localhost:8080/"
        },
        "id": "9jxti4LmBwhW",
        "outputId": "bbd5ec66-b4fc-4ef7-be8f-a595be13d656"
      },
      "execution_count": 98,
      "outputs": [
        {
          "output_type": "stream",
          "name": "stdout",
          "text": [
            "C2 Euclidean Distance Percent Change:\n",
            "0.7669795594605942\n"
          ]
        }
      ]
    },
    {
      "cell_type": "markdown",
      "source": [
        "#### Is random initialization of k-means using q2-c1.txt better than initialization using q2-c2.txt in terms of cost φ(i)?\n",
        "\n",
        "Random initialization of cluster2 (C2) is better than cluster1 (C1) with Euclidean distance. The percentage change in cost after 10 iterations for C2 is greater than that of C1. This shows faster convergence, therefore C2 is a better initialization.  \n"
      ],
      "metadata": {
        "id": "QlUehMXRBwhW"
      }
    },
    {
      "cell_type": "markdown",
      "source": [
        "### c) Using Manhattan distance to compute phi(i) for every iteration i."
      ],
      "metadata": {
        "id": "-l4X2cZTBwhW"
      }
    },
    {
      "cell_type": "markdown",
      "source": [
        "##### **C1 + Manhattan Distance**"
      ],
      "metadata": {
        "id": "O96FvuikGEq-"
      }
    },
    {
      "cell_type": "code",
      "source": [
        "# C1 + mannhattan_distance\n",
        "km = my_kmeans(data=documents_processed, centroids=c1_processed, k=2, max_iter=20, distance_measure=manhattan_distance)\n",
        "centroids, assignments, costs = km.run_kmeans()\n",
        "\n",
        "## If would like to see the output, uncomment this\n",
        "# print(\"Centroids:\")\n",
        "# for i, centroid in enumerate(centroids):\n",
        "#     print(f\"Centroid {i}: {centroid}\")\n",
        "\n",
        "# print(\"\\nAssigned Centroid Indices:\")\n",
        "# print(assignments)\n",
        "\n",
        "# print(\"\\nMinimum Distances:\")\n",
        "# print(costs)\n"
      ],
      "metadata": {
        "id": "5OvDZcaYO_Bp"
      },
      "execution_count": 99,
      "outputs": []
    },
    {
      "cell_type": "code",
      "source": [
        "import matplotlib.pyplot as plt\n",
        "\n",
        "iterations = list(range(0, len(costs)))\n",
        "min_costs = [c for c in costs]\n",
        "print(min_costs)\n",
        "\n",
        "plt.figure(figsize=(8, 6))\n",
        "plt.plot(iterations, min_costs, marker='o', linestyle='-')\n",
        "plt.xlabel('Iteration')\n",
        "plt.ylabel('Cost function φ(i)')\n",
        "plt.title('C1 Man: Cost function per Iteration')\n",
        "plt.xticks(iterations)  # Set x-axis ticks to match iterations\n",
        "plt.grid(True)\n",
        "plt.show()"
      ],
      "metadata": {
        "colab": {
          "base_uri": "https://localhost:8080/",
          "height": 602
        },
        "id": "cqD3EwG3MIyo",
        "outputId": "3c9528e9-b28a-46c7-c2d3-3bb93a603994"
      },
      "execution_count": 100,
      "outputs": [
        {
          "output_type": "stream",
          "name": "stdout",
          "text": [
            "[911884445.17187, 742773376.7173811, 710503527.4448584, 691531518.7948387, 684128938.8591821, 679435592.5719607, 674734050.2089773, 661786907.696679, 638295920.1874764, 534855705.5059727, 349885602.48810863, 321195025.2419958, 318752467.15876853, 316466212.1067739, 313886322.265297, 312080524.93162745, 310813384.77848285, 308129200.0546763, 305391777.35118496, 303176946.37547004, 300824931.3102552]\n"
          ]
        },
        {
          "output_type": "display_data",
          "data": {
            "text/plain": [
              "<Figure size 800x600 with 1 Axes>"
            ],
            "image/png": "[encoded data removed]"
          },
          "metadata": {}
        }
      ]
    },
    {
      "cell_type": "code",
      "source": [
        "C1_Man=(min_costs[0]-min_costs[10])/min_costs[0]"
      ],
      "metadata": {
        "id": "sjUUSEZ-EYVr"
      },
      "execution_count": 101,
      "outputs": []
    },
    {
      "cell_type": "markdown",
      "source": [
        "##### **C2 + Manhattan Distance**"
      ],
      "metadata": {
        "id": "q4cNEQAIGBgH"
      }
    },
    {
      "cell_type": "code",
      "source": [
        "# C2 + mannhattan_distance\n",
        "km = my_kmeans(data=documents_processed, centroids=c2_processed, k=2, max_iter=20, distance_measure=manhattan_distance)\n",
        "centroids, assignments, costs = km.run_kmeans()\n",
        "\n",
        "## If would like to see the output, uncomment this\n",
        "# print(\"Centroids:\")\n",
        "# for i, centroid in enumerate(centroids):\n",
        "#     print(f\"Centroid {i}: {centroid}\")\n",
        "\n",
        "# print(\"\\nAssigned Centroid Indices:\")\n",
        "# print(assignments)\n",
        "\n",
        "# print(\"\\nMinimum Distances:\")\n",
        "# print(costs)\n"
      ],
      "metadata": {
        "id": "0cNnOPSnFuIg"
      },
      "execution_count": 102,
      "outputs": []
    },
    {
      "cell_type": "code",
      "source": [
        "import matplotlib.pyplot as plt\n",
        "\n",
        "iterations = list(range(0, len(costs)))\n",
        "min_costs = [c for c in costs]\n",
        "print(min_costs)\n",
        "\n",
        "plt.figure(figsize=(8, 6))\n",
        "plt.plot(iterations, min_costs, marker='o', linestyle='-')\n",
        "plt.xlabel('Iteration')\n",
        "plt.ylabel('Cost function φ(i)')\n",
        "plt.title('C2 Man: Cost function per Iteration')\n",
        "plt.xticks(iterations)  # Set x-axis ticks to match iterations\n",
        "plt.grid(True)\n",
        "plt.show()"
      ],
      "metadata": {
        "colab": {
          "base_uri": "https://localhost:8080/",
          "height": 602
        },
        "outputId": "7782be57-b971-4e66-db1e-c5611291708e",
        "id": "V1o-rJdUFuIh"
      },
      "execution_count": 103,
      "outputs": [
        {
          "output_type": "stream",
          "name": "stdout",
          "text": [
            "[655439563.75341, 425797401.16884565, 340841790.1586253, 300225433.73988974, 288288125.2596762, 280744103.44819266, 263746381.60364747, 245483161.49866766, 210918225.27613884, 194368603.12692136, 187496282.8773877, 185418200.75729644, 183521866.89708894, 182150585.44948784, 181485856.88127458, 180706294.44807568, 179645731.17449284, 178877228.1555272, 178431912.69330698, 178185258.5584314, 177385176.5272688]\n"
          ]
        },
        {
          "output_type": "display_data",
          "data": {
            "text/plain": [
              "<Figure size 800x600 with 1 Axes>"
            ],
            "image/png": "[encoded data removed]"
          },
          "metadata": {}
        }
      ]
    },
    {
      "cell_type": "code",
      "source": [
        "C2_Man = (min_costs[0]-min_costs[10])/min_costs[0]"
      ],
      "metadata": {
        "id": "RdcAOLtRFuIh"
      },
      "execution_count": 104,
      "outputs": []
    },
    {
      "cell_type": "markdown",
      "source": [
        "### d) Compute percentage change in cost after 10 iterations of the K-Means algorithm."
      ],
      "metadata": {
        "id": "-J2L9ZOOBwhX"
      }
    },
    {
      "cell_type": "code",
      "source": [
        "# percentage change in cost for c1.\n",
        "\n",
        "print(\"C1 Manhattan Distance Percent Change:\")\n",
        "print(C1_Man)"
      ],
      "metadata": {
        "colab": {
          "base_uri": "https://localhost:8080/"
        },
        "id": "nzk8dCOaBwhX",
        "outputId": "45285116-4609-4b4c-c5d5-32d382b841ca"
      },
      "execution_count": 105,
      "outputs": [
        {
          "output_type": "stream",
          "name": "stdout",
          "text": [
            "C1 Manhattan Distance Percent Change:\n",
            "0.6163048900103094\n"
          ]
        }
      ]
    },
    {
      "cell_type": "code",
      "source": [
        "# percentage change in cost for c2.\n",
        "\n",
        "print(\"C2 Manhattan Distance Percent Change:\")\n",
        "print(C2_Man)"
      ],
      "metadata": {
        "colab": {
          "base_uri": "https://localhost:8080/"
        },
        "id": "Vs00v7p2BwhY",
        "outputId": "19614089-4f0b-4538-a5f9-1a8262dfc805"
      },
      "execution_count": 106,
      "outputs": [
        {
          "output_type": "stream",
          "name": "stdout",
          "text": [
            "C2 Manhattan Distance Percent Change:\n",
            "0.7139381062020728\n"
          ]
        }
      ]
    },
    {
      "cell_type": "code",
      "source": [
        "sc.stop()"
      ],
      "metadata": {
        "id": "hZdvtcgTG3LS"
      },
      "execution_count": 107,
      "outputs": []
    },
    {
      "cell_type": "markdown",
      "source": [
        "#### Is random initialization of k-means using q2-c1.txt better than initialization using q2-c2.txt in terms of cost φ(i)?\n",
        "\n",
        "Also for the manhattan distance, random initialization of cluster2 (C2) is better than cluster1 (C1) in terms of cost phi. The convergence happens faster with C2 intialization shown by the greater percentage change with C2 (0.7139) compared to that of C1 (0.6163). This is also evident on the graph that the saturation happens quicker with cluster2, starting at iteration 9. It happens later at iteration 11 with cluster 1 intialization.\n"
      ],
      "metadata": {
        "id": "4e-hOHSIBwhY"
      }
    }
  ]
}